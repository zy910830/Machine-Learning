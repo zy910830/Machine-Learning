{
 "cells": [
  {
   "cell_type": "markdown",
   "metadata": {},
   "source": [
    "# Volume Reversal Strategy"
   ]
  },
  {
   "cell_type": "markdown",
   "metadata": {},
   "source": [
    "A trading strategy based on price movements corresponding to the trading volume."
   ]
  },
  {
   "cell_type": "markdown",
   "metadata": {},
   "source": [
    "### Import libraries"
   ]
  },
  {
   "cell_type": "code",
   "execution_count": 42,
   "metadata": {
    "collapsed": true
   },
   "outputs": [],
   "source": [
    "import numpy as np\n",
    "import pandas as pd\n",
    "import matplotlib.pyplot as plt\n",
    "import datetime"
   ]
  },
  {
   "cell_type": "markdown",
   "metadata": {},
   "source": [
    "### Stock Data "
   ]
  },
  {
   "cell_type": "code",
   "execution_count": 43,
   "metadata": {},
   "outputs": [
    {
     "data": {
      "text/html": [
       "<div>\n",
       "<style>\n",
       "    .dataframe thead tr:only-child th {\n",
       "        text-align: right;\n",
       "    }\n",
       "\n",
       "    .dataframe thead th {\n",
       "        text-align: left;\n",
       "    }\n",
       "\n",
       "    .dataframe tbody tr th {\n",
       "        vertical-align: top;\n",
       "    }\n",
       "</style>\n",
       "<table border=\"1\" class=\"dataframe\">\n",
       "  <thead>\n",
       "    <tr style=\"text-align: right;\">\n",
       "      <th></th>\n",
       "      <th>Adj Close</th>\n",
       "      <th>Volume</th>\n",
       "    </tr>\n",
       "    <tr>\n",
       "      <th>Date</th>\n",
       "      <th></th>\n",
       "      <th></th>\n",
       "    </tr>\n",
       "  </thead>\n",
       "  <tbody>\n",
       "    <tr>\n",
       "      <th>2000-03-08</th>\n",
       "      <td>1366.699951</td>\n",
       "      <td>1203000000</td>\n",
       "    </tr>\n",
       "    <tr>\n",
       "      <th>2000-03-09</th>\n",
       "      <td>1401.689941</td>\n",
       "      <td>1123000000</td>\n",
       "    </tr>\n",
       "    <tr>\n",
       "      <th>2000-03-10</th>\n",
       "      <td>1395.069946</td>\n",
       "      <td>1138800000</td>\n",
       "    </tr>\n",
       "    <tr>\n",
       "      <th>2000-03-13</th>\n",
       "      <td>1383.619995</td>\n",
       "      <td>1016100000</td>\n",
       "    </tr>\n",
       "    <tr>\n",
       "      <th>2000-03-14</th>\n",
       "      <td>1359.150024</td>\n",
       "      <td>1094000000</td>\n",
       "    </tr>\n",
       "  </tbody>\n",
       "</table>\n",
       "</div>"
      ],
      "text/plain": [
       "              Adj Close      Volume\n",
       "Date                               \n",
       "2000-03-08  1366.699951  1203000000\n",
       "2000-03-09  1401.689941  1123000000\n",
       "2000-03-10  1395.069946  1138800000\n",
       "2000-03-13  1383.619995  1016100000\n",
       "2000-03-14  1359.150024  1094000000"
      ]
     },
     "execution_count": 43,
     "metadata": {},
     "output_type": "execute_result"
    }
   ],
   "source": [
    "data = pd.read_csv('./data/GSPC.csv', index_col=['Date'], parse_dates=True, usecols=['Date','Adj Close','Volume'])\n",
    "data.head()"
   ]
  },
  {
   "cell_type": "code",
   "execution_count": 44,
   "metadata": {},
   "outputs": [
    {
     "data": {
      "text/html": [
       "<div>\n",
       "<style>\n",
       "    .dataframe thead tr:only-child th {\n",
       "        text-align: right;\n",
       "    }\n",
       "\n",
       "    .dataframe thead th {\n",
       "        text-align: left;\n",
       "    }\n",
       "\n",
       "    .dataframe tbody tr th {\n",
       "        vertical-align: top;\n",
       "    }\n",
       "</style>\n",
       "<table border=\"1\" class=\"dataframe\">\n",
       "  <thead>\n",
       "    <tr style=\"text-align: right;\">\n",
       "      <th></th>\n",
       "      <th>Adj Close</th>\n",
       "      <th>Volume</th>\n",
       "    </tr>\n",
       "    <tr>\n",
       "      <th>Date</th>\n",
       "      <th></th>\n",
       "      <th></th>\n",
       "    </tr>\n",
       "  </thead>\n",
       "  <tbody>\n",
       "    <tr>\n",
       "      <th>2000-03-08</th>\n",
       "      <td>1366.699951</td>\n",
       "      <td>1203000000</td>\n",
       "    </tr>\n",
       "    <tr>\n",
       "      <th>2000-03-09</th>\n",
       "      <td>1401.689941</td>\n",
       "      <td>1123000000</td>\n",
       "    </tr>\n",
       "    <tr>\n",
       "      <th>2000-03-10</th>\n",
       "      <td>1395.069946</td>\n",
       "      <td>1138800000</td>\n",
       "    </tr>\n",
       "    <tr>\n",
       "      <th>2000-03-13</th>\n",
       "      <td>1383.619995</td>\n",
       "      <td>1016100000</td>\n",
       "    </tr>\n",
       "    <tr>\n",
       "      <th>2000-03-14</th>\n",
       "      <td>1359.150024</td>\n",
       "      <td>1094000000</td>\n",
       "    </tr>\n",
       "  </tbody>\n",
       "</table>\n",
       "</div>"
      ],
      "text/plain": [
       "              Adj Close      Volume\n",
       "Date                               \n",
       "2000-03-08  1366.699951  1203000000\n",
       "2000-03-09  1401.689941  1123000000\n",
       "2000-03-10  1395.069946  1138800000\n",
       "2000-03-13  1383.619995  1016100000\n",
       "2000-03-14  1359.150024  1094000000"
      ]
     },
     "execution_count": 44,
     "metadata": {},
     "output_type": "execute_result"
    }
   ],
   "source": [
    "\n",
    "data.head()"
   ]
  },
  {
   "cell_type": "markdown",
   "metadata": {},
   "source": [
    "### Price change for the last 5 days"
   ]
  },
  {
   "cell_type": "code",
   "execution_count": 45,
   "metadata": {},
   "outputs": [
    {
     "data": {
      "text/html": [
       "<div>\n",
       "<style>\n",
       "    .dataframe thead tr:only-child th {\n",
       "        text-align: right;\n",
       "    }\n",
       "\n",
       "    .dataframe thead th {\n",
       "        text-align: left;\n",
       "    }\n",
       "\n",
       "    .dataframe tbody tr th {\n",
       "        vertical-align: top;\n",
       "    }\n",
       "</style>\n",
       "<table border=\"1\" class=\"dataframe\">\n",
       "  <thead>\n",
       "    <tr style=\"text-align: right;\">\n",
       "      <th></th>\n",
       "      <th>Adj Close</th>\n",
       "      <th>Volume</th>\n",
       "      <th>pr_chg_5d</th>\n",
       "    </tr>\n",
       "    <tr>\n",
       "      <th>Date</th>\n",
       "      <th></th>\n",
       "      <th></th>\n",
       "      <th></th>\n",
       "    </tr>\n",
       "  </thead>\n",
       "  <tbody>\n",
       "    <tr>\n",
       "      <th>2000-03-08</th>\n",
       "      <td>1366.699951</td>\n",
       "      <td>1203000000</td>\n",
       "      <td>NaN</td>\n",
       "    </tr>\n",
       "    <tr>\n",
       "      <th>2000-03-09</th>\n",
       "      <td>1401.689941</td>\n",
       "      <td>1123000000</td>\n",
       "      <td>NaN</td>\n",
       "    </tr>\n",
       "    <tr>\n",
       "      <th>2000-03-10</th>\n",
       "      <td>1395.069946</td>\n",
       "      <td>1138800000</td>\n",
       "      <td>NaN</td>\n",
       "    </tr>\n",
       "    <tr>\n",
       "      <th>2000-03-13</th>\n",
       "      <td>1383.619995</td>\n",
       "      <td>1016100000</td>\n",
       "      <td>NaN</td>\n",
       "    </tr>\n",
       "    <tr>\n",
       "      <th>2000-03-14</th>\n",
       "      <td>1359.150024</td>\n",
       "      <td>1094000000</td>\n",
       "      <td>NaN</td>\n",
       "    </tr>\n",
       "    <tr>\n",
       "      <th>2000-03-15</th>\n",
       "      <td>1392.140015</td>\n",
       "      <td>1302800000</td>\n",
       "      <td>NaN</td>\n",
       "    </tr>\n",
       "    <tr>\n",
       "      <th>2000-03-16</th>\n",
       "      <td>1458.469971</td>\n",
       "      <td>1482300000</td>\n",
       "      <td>25.440064</td>\n",
       "    </tr>\n",
       "    <tr>\n",
       "      <th>2000-03-17</th>\n",
       "      <td>1464.469971</td>\n",
       "      <td>1295100000</td>\n",
       "      <td>56.780030</td>\n",
       "    </tr>\n",
       "    <tr>\n",
       "      <th>2000-03-20</th>\n",
       "      <td>1456.630005</td>\n",
       "      <td>920800000</td>\n",
       "      <td>69.400025</td>\n",
       "    </tr>\n",
       "    <tr>\n",
       "      <th>2000-03-21</th>\n",
       "      <td>1493.869995</td>\n",
       "      <td>1065900000</td>\n",
       "      <td>73.010010</td>\n",
       "    </tr>\n",
       "  </tbody>\n",
       "</table>\n",
       "</div>"
      ],
      "text/plain": [
       "              Adj Close      Volume  pr_chg_5d\n",
       "Date                                          \n",
       "2000-03-08  1366.699951  1203000000        NaN\n",
       "2000-03-09  1401.689941  1123000000        NaN\n",
       "2000-03-10  1395.069946  1138800000        NaN\n",
       "2000-03-13  1383.619995  1016100000        NaN\n",
       "2000-03-14  1359.150024  1094000000        NaN\n",
       "2000-03-15  1392.140015  1302800000        NaN\n",
       "2000-03-16  1458.469971  1482300000  25.440064\n",
       "2000-03-17  1464.469971  1295100000  56.780030\n",
       "2000-03-20  1456.630005   920800000  69.400025\n",
       "2000-03-21  1493.869995  1065900000  73.010010"
      ]
     },
     "execution_count": 45,
     "metadata": {},
     "output_type": "execute_result"
    }
   ],
   "source": [
    "data['pr_chg_5d'] = data['Adj Close'].shift(1) - data['Adj Close'].shift(6)\n",
    "data.head(10)"
   ]
  },
  {
   "cell_type": "markdown",
   "metadata": {},
   "source": [
    "### Standard Deviation of 5d Price Change "
   ]
  },
  {
   "cell_type": "code",
   "execution_count": 46,
   "metadata": {
    "collapsed": true
   },
   "outputs": [],
   "source": [
    "data['std_100d'] = data['pr_chg_5d'].rolling(window=100).std()"
   ]
  },
  {
   "cell_type": "markdown",
   "metadata": {},
   "source": [
    "### Average Volume Traded\n",
    "Calculate the last 5day's average traded volume"
   ]
  },
  {
   "cell_type": "code",
   "execution_count": 47,
   "metadata": {
    "collapsed": true
   },
   "outputs": [],
   "source": [
    "data['avg_vol_5d'] = data['Volume'].shift(1).rolling(window=5).mean()"
   ]
  },
  {
   "cell_type": "markdown",
   "metadata": {},
   "source": [
    "### Average Volume Traded between last 5 - 10 days "
   ]
  },
  {
   "cell_type": "code",
   "execution_count": 48,
   "metadata": {
    "collapsed": true
   },
   "outputs": [],
   "source": [
    "data['avg_vol_5d_10d'] = data['avg_vol_5d'].shift(5)"
   ]
  },
  {
   "cell_type": "markdown",
   "metadata": {},
   "source": [
    "### Signal Column\n",
    "Initialise the signal col to 0"
   ]
  },
  {
   "cell_type": "code",
   "execution_count": 49,
   "metadata": {
    "collapsed": true
   },
   "outputs": [],
   "source": [
    "data['signal'] = 0"
   ]
  },
  {
   "cell_type": "markdown",
   "metadata": {},
   "source": [
    "## Buy Signal\n",
    "A signal to buy will be triggered when:\n",
    "1. abs(pr_chg_5d) > std_100d   \n",
    "2. avg_vol_5d < avg_vol_5d_10d \n",
    "3. pr_chg_5d < 0"
   ]
  },
  {
   "cell_type": "code",
   "execution_count": 50,
   "metadata": {
    "collapsed": true
   },
   "outputs": [],
   "source": [
    "data.loc[(data['pr_chg_5d'].abs() > data['std_100d']) & \\\n",
    "         (data['avg_vol_5d'] < data['avg_vol_5d_10d']) & \\\n",
    "         (data['pr_chg_5d'] < 0), 'signal'] = 1"
   ]
  },
  {
   "cell_type": "markdown",
   "metadata": {},
   "source": [
    "## Sell Signal\n",
    "A signal to sell will be triggered when:\n",
    "1. abs(pr_chg_5d) > std_100d\n",
    "2. avg_vol_5d < avg_vol_5d_10d\n",
    "3. pr_chg_5d > 0"
   ]
  },
  {
   "cell_type": "code",
   "execution_count": 51,
   "metadata": {
    "collapsed": true
   },
   "outputs": [],
   "source": [
    "data.loc[(data['pr_chg_5d'].abs() > data['std_100d']) & \\\n",
    "         (data['avg_vol_5d'] < data['avg_vol_5d_10d']) & \\\n",
    "         (data['pr_chg_5d'] > 0), 'signal'] = -1"
   ]
  },
  {
   "cell_type": "markdown",
   "metadata": {},
   "source": [
    "## Entry and Exit signal\n",
    "Here we check for the last entry signal: \n",
    "if the signal is more than 5 days old:\n",
    "    exit the position\n",
    "else\n",
    "    hold it until the signal is 5 days old or there's a counter signal"
   ]
  },
  {
   "cell_type": "code",
   "execution_count": 52,
   "metadata": {
    "collapsed": true
   },
   "outputs": [],
   "source": [
    "data['c_signal']=0 \n",
    "data['exit']=0"
   ]
  },
  {
   "cell_type": "code",
   "execution_count": 53,
   "metadata": {
    "collapsed": true
   },
   "outputs": [],
   "source": [
    "for i in range(len(data)):\n",
    "    if((data.iloc[i]['signal']!=0) &(data.iloc[i]['signal']!= data.iloc[i-1]['c_signal'])) :\n",
    "        data.iloc[i,data.columns.get_loc('c_signal')]=data.iloc[i,data.columns.get_loc('signal')]\n",
    "        if data['signal'][i] ==1:\n",
    "            data.iloc[i,data.columns.get_loc('exit')]=1\n",
    "        else:\n",
    "            data.iloc[i,data.columns.get_loc('exit')]=-1\n",
    "    if((data['signal'][i]!=0) & (data['signal'][i]== data['c_signal'][i-1])) :\n",
    "        data.iloc[i,data.columns.get_loc('c_signal')]=data['c_signal'][i-1]\n",
    "        if data['c_signal'][i-1]==1:\n",
    "               data.iloc[i,data.columns.get_loc('exit')]=int(data['exit'][i-1])+1\n",
    "        else:\n",
    "            data.iloc[i,data.columns.get_loc('exit')]=int(data['exit'][i-1])-1\n",
    "    if((data['signal'][i]==0)&(data['exit'][i-1]<5)&(data['exit'][i-1]>0)):    \n",
    "        data.iloc[i,data.columns.get_loc('c_signal')]=data['c_signal'][i-1]\n",
    "        data.iloc[i,data.columns.get_loc('exit')]=int(data['exit'][i-1])+1\n",
    "    if((data['signal'][i]==0)&(data['exit'][i-1]>-5)&(data['exit'][i-1]<0)):    \n",
    "        data.iloc[i,data.columns.get_loc('c_signal')]=data['c_signal'][i-1]\n",
    "        data.iloc[i,data.columns.get_loc('exit')]=int(data['exit'][i-1])-1\n",
    "    if((data['signal'][i]==0)&((data['exit'][i-1]==5)|(data['exit'][i-1]==-5))):    \n",
    "        data.iloc[i,data.columns.get_loc('c_signal')]=0\n",
    "        data.iloc[i,data.columns.get_loc('exit')]=0"
   ]
  },
  {
   "cell_type": "code",
   "execution_count": 62,
   "metadata": {},
   "outputs": [
    {
     "data": {
      "text/html": [
       "<div>\n",
       "<style>\n",
       "    .dataframe thead tr:only-child th {\n",
       "        text-align: right;\n",
       "    }\n",
       "\n",
       "    .dataframe thead th {\n",
       "        text-align: left;\n",
       "    }\n",
       "\n",
       "    .dataframe tbody tr th {\n",
       "        vertical-align: top;\n",
       "    }\n",
       "</style>\n",
       "<table border=\"1\" class=\"dataframe\">\n",
       "  <thead>\n",
       "    <tr style=\"text-align: right;\">\n",
       "      <th></th>\n",
       "      <th>Adj Close</th>\n",
       "      <th>Volume</th>\n",
       "      <th>pr_chg_5d</th>\n",
       "      <th>std_100d</th>\n",
       "      <th>avg_vol_5d</th>\n",
       "      <th>avg_vol_5d_10d</th>\n",
       "      <th>signal</th>\n",
       "      <th>c_signal</th>\n",
       "      <th>exit</th>\n",
       "      <th>return</th>\n",
       "      <th>str_return</th>\n",
       "      <th>cu_str_return</th>\n",
       "      <th>cu_mar_return</th>\n",
       "    </tr>\n",
       "    <tr>\n",
       "      <th>Date</th>\n",
       "      <th></th>\n",
       "      <th></th>\n",
       "      <th></th>\n",
       "      <th></th>\n",
       "      <th></th>\n",
       "      <th></th>\n",
       "      <th></th>\n",
       "      <th></th>\n",
       "      <th></th>\n",
       "      <th></th>\n",
       "      <th></th>\n",
       "      <th></th>\n",
       "      <th></th>\n",
       "    </tr>\n",
       "  </thead>\n",
       "  <tbody>\n",
       "    <tr>\n",
       "      <th>2000-08-08</th>\n",
       "      <td>1482.800049</td>\n",
       "      <td>992200000</td>\n",
       "      <td>48.489990</td>\n",
       "      <td>46.605287</td>\n",
       "      <td>967920000.0</td>\n",
       "      <td>1.058840e+09</td>\n",
       "      <td>-1</td>\n",
       "      <td>-1</td>\n",
       "      <td>-1</td>\n",
       "      <td>0.002350</td>\n",
       "      <td>-0.002350</td>\n",
       "      <td>-0.002350</td>\n",
       "      <td>0.043353</td>\n",
       "    </tr>\n",
       "    <tr>\n",
       "      <th>2000-08-09</th>\n",
       "      <td>1472.869995</td>\n",
       "      <td>1054000000</td>\n",
       "      <td>44.700073</td>\n",
       "      <td>46.481018</td>\n",
       "      <td>978620000.0</td>\n",
       "      <td>1.052700e+09</td>\n",
       "      <td>0</td>\n",
       "      <td>-1</td>\n",
       "      <td>-2</td>\n",
       "      <td>-0.006719</td>\n",
       "      <td>0.006719</td>\n",
       "      <td>0.004370</td>\n",
       "      <td>0.036633</td>\n",
       "    </tr>\n",
       "    <tr>\n",
       "      <th>2000-08-10</th>\n",
       "      <td>1460.250000</td>\n",
       "      <td>940800000</td>\n",
       "      <td>34.170044</td>\n",
       "      <td>46.106798</td>\n",
       "      <td>990520000.0</td>\n",
       "      <td>1.004440e+09</td>\n",
       "      <td>0</td>\n",
       "      <td>-1</td>\n",
       "      <td>-3</td>\n",
       "      <td>-0.008605</td>\n",
       "      <td>0.008605</td>\n",
       "      <td>0.012975</td>\n",
       "      <td>0.028028</td>\n",
       "    </tr>\n",
       "    <tr>\n",
       "      <th>2000-08-11</th>\n",
       "      <td>1471.839966</td>\n",
       "      <td>835500000</td>\n",
       "      <td>7.689941</td>\n",
       "      <td>45.563381</td>\n",
       "      <td>959560000.0</td>\n",
       "      <td>9.922800e+08</td>\n",
       "      <td>0</td>\n",
       "      <td>-1</td>\n",
       "      <td>-4</td>\n",
       "      <td>0.007906</td>\n",
       "      <td>-0.007906</td>\n",
       "      <td>0.005069</td>\n",
       "      <td>0.035934</td>\n",
       "    </tr>\n",
       "    <tr>\n",
       "      <th>2000-08-14</th>\n",
       "      <td>1491.560059</td>\n",
       "      <td>783800000</td>\n",
       "      <td>8.909912</td>\n",
       "      <td>43.562302</td>\n",
       "      <td>935460000.0</td>\n",
       "      <td>9.874800e+08</td>\n",
       "      <td>0</td>\n",
       "      <td>-1</td>\n",
       "      <td>-5</td>\n",
       "      <td>0.013309</td>\n",
       "      <td>-0.013309</td>\n",
       "      <td>-0.008240</td>\n",
       "      <td>0.049243</td>\n",
       "    </tr>\n",
       "  </tbody>\n",
       "</table>\n",
       "</div>"
      ],
      "text/plain": [
       "              Adj Close      Volume  pr_chg_5d   std_100d   avg_vol_5d  \\\n",
       "Date                                                                     \n",
       "2000-08-08  1482.800049   992200000  48.489990  46.605287  967920000.0   \n",
       "2000-08-09  1472.869995  1054000000  44.700073  46.481018  978620000.0   \n",
       "2000-08-10  1460.250000   940800000  34.170044  46.106798  990520000.0   \n",
       "2000-08-11  1471.839966   835500000   7.689941  45.563381  959560000.0   \n",
       "2000-08-14  1491.560059   783800000   8.909912  43.562302  935460000.0   \n",
       "\n",
       "            avg_vol_5d_10d  signal  c_signal  exit    return  str_return  \\\n",
       "Date                                                                       \n",
       "2000-08-08    1.058840e+09      -1        -1    -1  0.002350   -0.002350   \n",
       "2000-08-09    1.052700e+09       0        -1    -2 -0.006719    0.006719   \n",
       "2000-08-10    1.004440e+09       0        -1    -3 -0.008605    0.008605   \n",
       "2000-08-11    9.922800e+08       0        -1    -4  0.007906   -0.007906   \n",
       "2000-08-14    9.874800e+08       0        -1    -5  0.013309   -0.013309   \n",
       "\n",
       "            cu_str_return  cu_mar_return  \n",
       "Date                                      \n",
       "2000-08-08      -0.002350       0.043353  \n",
       "2000-08-09       0.004370       0.036633  \n",
       "2000-08-10       0.012975       0.028028  \n",
       "2000-08-11       0.005069       0.035934  \n",
       "2000-08-14      -0.008240       0.049243  "
      ]
     },
     "execution_count": 62,
     "metadata": {},
     "output_type": "execute_result"
    }
   ],
   "source": [
    "data[data['c_signal'] != 0].head()"
   ]
  },
  {
   "cell_type": "code",
   "execution_count": 55,
   "metadata": {
    "collapsed": true
   },
   "outputs": [],
   "source": [
    "data['return'] = np.log(data['Adj Close']/data['Adj Close'].shift(1))"
   ]
  },
  {
   "cell_type": "code",
   "execution_count": 56,
   "metadata": {
    "collapsed": true
   },
   "outputs": [],
   "source": [
    "data['str_return']=data['return']*data['c_signal']"
   ]
  },
  {
   "cell_type": "code",
   "execution_count": 57,
   "metadata": {
    "collapsed": true
   },
   "outputs": [],
   "source": [
    "data['cu_str_return']=0\n",
    "data['cu_mar_return']=0"
   ]
  },
  {
   "cell_type": "code",
   "execution_count": 58,
   "metadata": {},
   "outputs": [
    {
     "name": "stderr",
     "output_type": "stream",
     "text": [
      "C:\\non-System\\Anaconda\\lib\\site-packages\\ipykernel_launcher.py:1: FutureWarning: pd.expanding_sum is deprecated for Series and will be removed in a future version, replace with \n",
      "\tSeries.expanding(min_periods=1).sum()\n",
      "  \"\"\"Entry point for launching an IPython kernel.\n"
     ]
    }
   ],
   "source": [
    "data.iloc[100:,data.columns.get_loc('cu_str_return')]=pd.expanding_sum(data['str_return'][100:])"
   ]
  },
  {
   "cell_type": "code",
   "execution_count": 59,
   "metadata": {},
   "outputs": [
    {
     "name": "stderr",
     "output_type": "stream",
     "text": [
      "C:\\non-System\\Anaconda\\lib\\site-packages\\ipykernel_launcher.py:1: FutureWarning: pd.expanding_sum is deprecated for Series and will be removed in a future version, replace with \n",
      "\tSeries.expanding(min_periods=1).sum()\n",
      "  \"\"\"Entry point for launching an IPython kernel.\n"
     ]
    }
   ],
   "source": [
    "data.iloc[100:,data.columns.get_loc('cu_mar_return')]=pd.expanding_sum(data['return'][100:])"
   ]
  },
  {
   "cell_type": "code",
   "execution_count": 60,
   "metadata": {},
   "outputs": [
    {
     "data": {
      "image/png": "[encoded data removed]",
      "text/plain": [
       "<matplotlib.figure.Figure at 0x280cc6913c8>"
      ]
     },
     "metadata": {},
     "output_type": "display_data"
    }
   ],
   "source": [
    "plt.figure(figsize=(10,7))\n",
    "plt.plot(data['cu_str_return'][100:], color='g',label='Strategy Returns')\n",
    "plt.plot(data['cu_mar_return'][100:], color='r',label='Market Returns')\n",
    "plt.legend(loc='best')\n",
    "plt.show()"
   ]
  },
  {
   "cell_type": "code",
   "execution_count": 61,
   "metadata": {},
   "outputs": [
    {
     "data": {
      "text/plain": [
       "1.0979823270741023"
      ]
     },
     "execution_count": 61,
     "metadata": {},
     "output_type": "execute_result"
    }
   ],
   "source": [
    "(data['cu_str_return'].iloc[-1]-data['cu_mar_return'].iloc[-1])/data['cu_str_return'].std()"
   ]
  },
  {
   "cell_type": "code",
   "execution_count": null,
   "metadata": {
    "collapsed": true
   },
   "outputs": [],
   "source": []
  }
 ],
 "metadata": {
  "kernelspec": {
   "display_name": "Python 3",
   "language": "python",
   "name": "python3"
  },
  "language_info": {
   "codemirror_mode": {
    "name": "ipython",
    "version": 3
   },
   "file_extension": ".py",
   "mimetype": "text/x-python",
   "name": "python",
   "nbconvert_exporter": "python",
   "pygments_lexer": "ipython3",
   "version": "3.6.1"
  }
 },
 "nbformat": 4,
 "nbformat_minor": 2
}
