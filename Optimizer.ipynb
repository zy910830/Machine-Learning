{
 "cells": [
  {
   "cell_type": "markdown",
   "metadata": {},
   "source": [
    "# Optimizer"
   ]
  },
  {
   "cell_type": "code",
   "execution_count": 47,
   "metadata": {},
   "outputs": [
    {
     "ename": "SyntaxError",
     "evalue": "invalid syntax (<ipython-input-47-26ba9a7a8762>, line 1)",
     "output_type": "error",
     "traceback": [
      "\u001b[1;36m  File \u001b[1;32m\"<ipython-input-47-26ba9a7a8762>\"\u001b[1;36m, line \u001b[1;32m1\u001b[0m\n\u001b[1;33m    aimport pandas as pd\u001b[0m\n\u001b[1;37m                 ^\u001b[0m\n\u001b[1;31mSyntaxError\u001b[0m\u001b[1;31m:\u001b[0m invalid syntax\n"
     ]
    }
   ],
   "source": [
    "aimport pandas as pd\n",
    "import numpy as np\n",
    "import matplotlib.pyplot as plt\n",
    "import scipy.optimize as spo"
   ]
  },
  {
   "cell_type": "code",
   "execution_count": null,
   "metadata": {
    "collapsed": true
   },
   "outputs": [],
   "source": [
    "def f(X):\n",
    "    Y = (X - 1.5)**2 + 0.5\n",
    "    print (\"X = {}, Y = {}\".format(X, Y))\n",
    "    return Y"
   ]
  },
  {
   "cell_type": "code",
   "execution_count": null,
   "metadata": {
    "collapsed": true
   },
   "outputs": [],
   "source": [
    "# Example\n",
    "min_result = spo.minimize(f, 2, method='SLSQP', options={'disp': True})\n",
    "print (\"Minima Found at: \")\n",
    "print (\"X = {}, Y = {}\".format(min_result.x, min_result.fun))\n",
    "\n",
    "# Plot function values, mark minima\n",
    "Xplot = np.linspace(0.5, 2.5, 21)\n",
    "Yplot = f(Xplot)\n",
    "plt.plot(Xplot, Yplot)\n",
    "plt.plot(min_result.x, min_result.fun, 'ro')\n",
    "plt.title(\"Minima of an objective function\")\n",
    "plt.show()"
   ]
  },
  {
   "cell_type": "code",
   "execution_count": 72,
   "metadata": {
    "collapsed": true
   },
   "outputs": [],
   "source": [
    "def error(line, data):\n",
    "    \"\"\"Compute error between given line model and observed data\n",
    "    \n",
    "    Parameters\n",
    "    ----------\n",
    "    line: tuple/list/array (C0, C1) where C0 is slope and Ci in Y-intersept\n",
    "    data: 2D array where each row is a point (x, y)\n",
    "    \n",
    "    Returns error as a single real value\n",
    "    \"\"\"\n",
    "    \n",
    "    # Metric: Sum of squared Y-axis differences\n",
    "    err = np.sum((data[:, 1] - (line[0] * data[:, 0] + line[1])) ** 2)\n",
    "    return err"
   ]
  },
  {
   "cell_type": "code",
   "execution_count": 73,
   "metadata": {
    "collapsed": true
   },
   "outputs": [],
   "source": [
    "def fit_line(data, error_func):\n",
    "    \n",
    "    # Initial guess\n",
    "    line = np.float32([0, np.mean(data[:1])])\n",
    "    \n",
    "    # Call optimizer to minimize the error_func\n",
    "    result = spo.minimize(error_func, line, args=(data,), method='SLSQP', options={'disp': True})\n",
    "    return result.x\n",
    "    "
   ]
  },
  {
   "cell_type": "code",
   "execution_count": 104,
   "metadata": {
    "collapsed": true
   },
   "outputs": [
    {
     "name": "stdout",
     "output_type": "stream",
     "text": [
      "Original line: C0 = 4.0, C1 = 2.0\n",
      "Optimization terminated successfully.    (Exit mode 0)\n",
      "            Current function value: 417.8348323805599\n",
      "            Iterations: 4\n",
      "            Function evaluations: 21\n",
      "            Gradient evaluations: 4\n",
      "Fitted line: C0 = 3.640024586061595, C1 = 4.49717479707736\n"
     ]
    },
    {
     "data": {
      "image/png": "[encoded data removed]",
      "text/plain": [
       "<matplotlib.figure.Figure at 0x1d9a72942e8>"
      ]
     },
     "metadata": {},
     "output_type": "display_data"
    }
   ],
   "source": [
    "# Example\n",
    "\n",
    "# Define original line\n",
    "l = np.float32([4, 2])\n",
    "print (\"Original line: C0 = {}, C1 = {}\".format(l[0], l[1]))\n",
    "Xorig = np.linspace(0, 10, 21)\n",
    "Yorig = l[0] * Xorig + l[1]\n",
    "plt.plot(Xorig, Yorig, 'b--', linewidth=2.0, label=\"Original Line\")\n",
    "\n",
    "# Generate noisy data points\n",
    "noise_sigma = 5.0\n",
    "noise = np.random.normal(0, noise_sigma, Yorig.shape)\n",
    "data = np.asarray([Xorig, Yorig + noise]).T\n",
    "plt.plot(data[:, 0], data[:, 1], 'go', label='Data Points')\n",
    "\n",
    "# Try to fit a line to this data\n",
    "l_fit = fit_line(data, error)\n",
    "print (\"Fitted line: C0 = {}, C1 = {}\".format(l_fit[0], l_fit[1]))\n",
    "plt.plot(data[:, 0], l_fit[0] * data[:, 0] + l_fit[1], 'r--', linewidth=2.0, label='Fitted line')\n",
    "plt.legend(loc='upper left')\n",
    "plt.show()"
   ]
  },
  {
   "cell_type": "code",
   "execution_count": null,
   "metadata": {
    "collapsed": true
   },
   "outputs": [],
   "source": []
  },
  {
   "cell_type": "code",
   "execution_count": null,
   "metadata": {
    "collapsed": true
   },
   "outputs": [],
   "source": []
  },
  {
   "cell_type": "code",
   "execution_count": null,
   "metadata": {
    "collapsed": true
   },
   "outputs": [],
   "source": []
  }
 ],
 "metadata": {
  "kernelspec": {
   "display_name": "Python 3",
   "language": "python",
   "name": "python3"
  },
  "language_info": {
   "codemirror_mode": {
    "name": "ipython",
    "version": 3
   },
   "file_extension": ".py",
   "mimetype": "text/x-python",
   "name": "python",
   "nbconvert_exporter": "python",
   "pygments_lexer": "ipython3",
   "version": "3.6.1"
  }
 },
 "nbformat": 4,
 "nbformat_minor": 2
}
