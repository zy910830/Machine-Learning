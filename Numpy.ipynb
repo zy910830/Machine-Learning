{
 "cells": [
  {
   "cell_type": "code",
   "execution_count": 1,
   "metadata": {
    "collapsed": true
   },
   "outputs": [],
   "source": [
    "import numpy as np"
   ]
  },
  {
   "cell_type": "markdown",
   "metadata": {},
   "source": [
    "##### Create Numpy Array"
   ]
  },
  {
   "cell_type": "code",
   "execution_count": 2,
   "metadata": {
    "collapsed": true
   },
   "outputs": [
    {
     "name": "stdout",
     "output_type": "stream",
     "text": [
      "[2 3 4]\n",
      "Empty arrays\n",
      "[  4.24896455e-322   0.00000000e+000   0.00000000e+000   4.46635344e-321\n",
      "   0.00000000e+000]\n",
      "[[  4.67296746e-307   1.69121096e-306   1.00132822e-307   9.45697982e-308]\n",
      " [  1.42419938e-306   7.56603881e-307   8.45603440e-307   2.11397635e-307]\n",
      " [  1.11261570e-306   1.29062229e-306   7.56599807e-307   8.90104239e-307]\n",
      " [  3.11525958e-307   1.69118108e-306   8.06632139e-308   1.20160711e-306]\n",
      " [  1.69119330e-306   1.29062229e-306   1.29060531e-306   2.97892385e-317]]\n",
      "Array of 1s\n",
      "[[1 1 1 1]\n",
      " [1 1 1 1]\n",
      " [1 1 1 1]\n",
      " [1 1 1 1]\n",
      " [1 1 1 1]]\n",
      "Random numbers - Uniform Distribution\n",
      "[[ 0.68096921  0.88105383  0.2889841   0.25822149]\n",
      " [ 0.3266659   0.18423672  0.97893223  0.66999899]\n",
      " [ 0.10835649  0.76324032  0.57859886  0.63767821]\n",
      " [ 0.28677162  0.98165788  0.06183478  0.20605257]\n",
      " [ 0.68976365  0.53064481  0.2869532   0.10245263]]\n",
      "[[ 0.69135584  0.58627681  0.2758608   0.19243895]\n",
      " [ 0.99176201  0.99659701  0.01357593  0.78468163]\n",
      " [ 0.30572931  0.37905137  0.22316866  0.74272771]\n",
      " [ 0.90504478  0.72923137  0.39257217  0.85865934]\n",
      " [ 0.16944722  0.35228557  0.9611896   0.34206617]]\n",
      "Random numbers - Normal Distribution\n",
      "[[ 45.05004558  40.21756088  33.97318174]\n",
      " [ 68.37439757  48.31906106  52.22499789]]\n",
      "Random integers\n",
      "[[8 5 4]\n",
      " [4 0 9]]\n"
     ]
    }
   ],
   "source": [
    "print (np.array([2,3,4]))\n",
    "#Generate empty array\n",
    "print (\"Empty arrays\")\n",
    "print (np.empty(5))\n",
    "print (np.empty((5,4)))\n",
    "\n",
    "#Generate array of 1s\n",
    "print (\"Array of 1s\")\n",
    "print (np.ones((5,4), dtype=np.int_))\n",
    "\n",
    "#Generate an array full of random numbers, uniformly sampled from [0.0, 1.0)\n",
    "print (\"Random numbers - Uniform Distribution\")\n",
    "print (np.random.random((5, 4)))\n",
    "print (np.random.rand(5, 4))\n",
    "                      \n",
    "#sample numbers from a Normal Distribution\n",
    "print (\"Random numbers - Normal Distribution\")\n",
    "print (np.random.normal(loc=50, scale=10, size=(2, 3)))\n",
    "\n",
    "#Random integers\n",
    "print (\"Random integers\")\n",
    "print (np.random.randint(0, 10, size=(2, 3)))"
   ]
  },
  {
   "cell_type": "markdown",
   "metadata": {},
   "source": [
    "##### Array Attributes"
   ]
  },
  {
   "cell_type": "code",
   "execution_count": 3,
   "metadata": {
    "collapsed": true
   },
   "outputs": [
    {
     "name": "stdout",
     "output_type": "stream",
     "text": [
      "Rows: 5\n",
      "Cols: 4\n",
      "Dimention: 2\n",
      "Size: 20\n"
     ]
    }
   ],
   "source": [
    "a = np.random.random((5, 4))\n",
    "print (\"Rows:\", a.shape[0])\n",
    "print (\"Cols:\", a.shape[1])\n",
    "print (\"Dimention:\", len(a.shape))\n",
    "print (\"Size:\", a.size)"
   ]
  },
  {
   "cell_type": "markdown",
   "metadata": {},
   "source": [
    "##### Array Operations"
   ]
  },
  {
   "cell_type": "code",
   "execution_count": 4,
   "metadata": {
    "collapsed": true
   },
   "outputs": [
    {
     "name": "stdout",
     "output_type": "stream",
     "text": [
      "Array:\n",
      "[[2 0 5 1]\n",
      " [1 3 4 4]\n",
      " [9 2 9 1]\n",
      " [9 3 7 5]\n",
      " [4 7 0 3]]\n",
      "Sum of all:\n",
      " 79\n",
      "Sum of col:\n",
      " [25 15 25 14]\n",
      "Sum of row:\n",
      " [ 8 12 21 24 14]\n",
      "Min of col:\n",
      " [1 0 0 1]\n",
      "Max of row:\n",
      " [5 4 9 9 7]\n",
      "Mean of all:\n",
      " 3.95\n"
     ]
    }
   ],
   "source": [
    "np.random.seed(693) #Seed the random number generator\n",
    "a = np.random.randint(0, 10, size=(5, 4))\n",
    "print (\"Array:\", a, sep='\\n')\n",
    "#axis=0: by row,  axis=1: by col\n",
    "print (\"Sum of all:\\n\", a.sum())\n",
    "print (\"Sum of col:\\n\", a.sum(axis=0))\n",
    "print (\"Sum of row:\\n\", a.sum(axis=1))\n",
    "print (\"Min of col:\\n\", a.min(axis=0))\n",
    "print (\"Max of row:\\n\", a.max(axis=1))\n",
    "print (\"Mean of all:\\n\", a.mean())"
   ]
  },
  {
   "cell_type": "markdown",
   "metadata": {},
   "source": [
    "##### Access Array Elements By Index"
   ]
  },
  {
   "cell_type": "code",
   "execution_count": 5,
   "metadata": {
    "collapsed": true
   },
   "outputs": [
    {
     "name": "stdout",
     "output_type": "stream",
     "text": [
      "[ 0.31127579  0.62872047  0.07569968  0.54876981  0.53860522]\n",
      "[ 0.62872047  0.62872047  0.07569968  0.54876981]\n"
     ]
    }
   ],
   "source": [
    "a = np.random.rand(5)\n",
    "print (a)\n",
    "indices = np.array([1,1,2,3])\n",
    "print (a[indices])"
   ]
  },
  {
   "cell_type": "code",
   "execution_count": 6,
   "metadata": {
    "collapsed": true
   },
   "outputs": [
    {
     "name": "stdout",
     "output_type": "stream",
     "text": [
      "[[19  1 19  5]\n",
      " [15  7 13  5]\n",
      " [ 1 15  5  6]\n",
      " [10  8  2 10]\n",
      " [ 6  7  6 19]]\n",
      "mean:  8.95\n",
      "[1 5 7 5 1 5 6 8 2 6 7 6]\n"
     ]
    }
   ],
   "source": [
    "a = np.random.randint(0, 20, size=(5,4))\n",
    "print (a)\n",
    "mean =a.mean()\n",
    "print (\"mean: \", mean)\n",
    "print (a[a<mean])"
   ]
  },
  {
   "cell_type": "markdown",
   "metadata": {},
   "source": [
    "##### Arithmetic Operation"
   ]
  },
  {
   "cell_type": "code",
   "execution_count": 7,
   "metadata": {
    "collapsed": true
   },
   "outputs": [
    {
     "name": "stdout",
     "output_type": "stream",
     "text": [
      "Original array a:\n",
      " [[ 1  2  3  4  5]\n",
      " [10 20 30 40 50]]\n",
      "\n",
      "Multiply a by 2:\n",
      " [[  2   4   6   8  10]\n",
      " [ 20  40  60  80 100]]\n",
      "\n",
      "Divide a by 2:\n",
      " [[  0.5   1.    1.5   2.    2.5]\n",
      " [  5.   10.   15.   20.   25. ]]\n",
      "\n",
      "Multiply a and b:\n",
      " [[ 100  400  900 1600 2500]\n",
      " [  10   40   90  160  250]]\n",
      "\n",
      "Dot Product a and b: [[ 5500    55]\n",
      " [55000   550]]\n"
     ]
    }
   ],
   "source": [
    "a = np.array([(1,2,3,4,5),(10,20,30,40,50)])\n",
    "b = np.array([(100,200,300,400,500),(1,2,3,4,5)])\n",
    "print (\"Original array a:\\n\", a)\n",
    "print (\"\\nMultiply a by 2:\\n\", a * 2)\n",
    "print (\"\\nDivide a by 2:\\n\", a / 2.0)\n",
    "print (\"\\nMultiply a and b:\\n\", a * b)\n",
    "print (\"\\nDot Product a and b:\", np.dot(a,np.transpose(b)))"
   ]
  },
  {
   "cell_type": "code",
   "execution_count": null,
   "metadata": {
    "collapsed": true
   },
   "outputs": [],
   "source": []
  }
 ],
 "metadata": {
  "kernelspec": {
   "display_name": "Python 3",
   "language": "python",
   "name": "python3"
  },
  "language_info": {
   "codemirror_mode": {
    "name": "ipython",
    "version": 3
   },
   "file_extension": ".py",
   "mimetype": "text/x-python",
   "name": "python",
   "nbconvert_exporter": "python",
   "pygments_lexer": "ipython3",
   "version": "3.6.1"
  }
 },
 "nbformat": 4,
 "nbformat_minor": 2
}
