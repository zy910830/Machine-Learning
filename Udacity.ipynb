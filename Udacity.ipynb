{
 "cells": [
  {
   "cell_type": "markdown",
   "metadata": {},
   "source": [
    "# Test"
   ]
  },
  {
   "cell_type": "markdown",
   "metadata": {},
   "source": [
    "##### --Imports--"
   ]
  },
  {
   "cell_type": "code",
   "execution_count": 19,
   "metadata": {},
   "outputs": [],
   "source": [
    "import pandas as pd\n",
    "import numpy as np\n",
    "import matplotlib.pyplot as plt"
   ]
  },
  {
   "cell_type": "markdown",
   "metadata": {},
   "source": [
    "##### --Read CSV File--"
   ]
  },
  {
   "cell_type": "code",
   "execution_count": 74,
   "metadata": {},
   "outputs": [],
   "source": [
    "df_GOOG = pd.read_csv(\"./data/GOOG.csv\", index_col='Date', parse_dates=True, \n",
    "                        usecols = ['Date','Adj Close'], na_values=['nan'])\n",
    "#print (df_GOOG.head(5))"
   ]
  },
  {
   "cell_type": "markdown",
   "metadata": {},
   "source": [
    "##### --Plot Data--"
   ]
  },
  {
   "cell_type": "code",
   "execution_count": 120,
   "metadata": {},
   "outputs": [],
   "source": [
    "#df_GOOG['Adj Close'].plot()\n",
    "#plt.show()"
   ]
  },
  {
   "cell_type": "markdown",
   "metadata": {},
   "source": [
    "##### --Create Empty DataFrame--"
   ]
  },
  {
   "cell_type": "code",
   "execution_count": 126,
   "metadata": {},
   "outputs": [],
   "source": [
    "#dates = pd.date_range('2012-09-10', '2017-09-10')\n",
    "#df = pd.DataFrame(index=dates)\n",
    "#print (df.head(5))"
   ]
  },
  {
   "cell_type": "markdown",
   "metadata": {},
   "source": [
    "##### --Read & Join More Stocks--"
   ]
  },
  {
   "cell_type": "code",
   "execution_count": 82,
   "metadata": {},
   "outputs": [],
   "source": [
    "def get_data(symbols, df_date_range):\n",
    "    df = pd.DataFrame(index=df_date_range)\n",
    "    for symbol in symbols:\n",
    "        df_temp = pd.read_csv(\"./data/{}.csv\".format(symbol), index_col='Date', parse_dates=True,\n",
    "                             usecols=['Date','Adj Close'], na_values=['nan'])\n",
    "        df_temp = df_temp.rename(columns={'Adj Close': symbol})\n",
    "\n",
    "        df = df.join(df_temp,sort=True)\n",
    "        df = df.dropna()\n",
    "        \n",
    "    return df"
   ]
  },
  {
   "cell_type": "code",
   "execution_count": 106,
   "metadata": {},
   "outputs": [
    {
     "name": "stdout",
     "output_type": "stream",
     "text": [
      "                  GOOG        AMZN         FB       AAPL\n",
      "2012-09-10  349.076569  257.089996  18.809999  85.542564\n",
      "2012-09-11  344.802582  255.669998  19.430000  85.265068\n",
      "2012-09-12  344.150055  255.630005  20.930000  86.452538\n",
      "2012-09-13  351.701721  260.239990  20.709999  88.155037\n",
      "2012-09-14  353.514954  261.269989  22.000000  89.226341\n"
     ]
    }
   ],
   "source": [
    "dates = pd.date_range('2012-09-10', '2017-09-10')\n",
    "df = get_data(['GOOG','AMZN','FB','AAPL'], dates)\n",
    "print (df.head(5))"
   ]
  },
  {
   "cell_type": "markdown",
   "metadata": {},
   "source": [
    "##### --Data Slicing--"
   ]
  },
  {
   "cell_type": "code",
   "execution_count": 89,
   "metadata": {},
   "outputs": [],
   "source": [
    "#Slice by row range(dates) using DataFrame.loc[]\n",
    "#print (df.loc['2012-05-05':'2013-05-20'])"
   ]
  },
  {
   "cell_type": "code",
   "execution_count": 91,
   "metadata": {},
   "outputs": [],
   "source": [
    "#Slice by columns(symbols)\n",
    "#print (df[['GOOG','AAPL']])"
   ]
  },
  {
   "cell_type": "code",
   "execution_count": 117,
   "metadata": {},
   "outputs": [],
   "source": [
    "#Slice by row and column\n",
    "#print (df.loc['2013-05-09':'2014-05-20', ['GOOG','AAPL']])"
   ]
  },
  {
   "cell_type": "markdown",
   "metadata": {},
   "source": [
    "##### --Ploting Multiple Stocks--"
   ]
  },
  {
   "cell_type": "code",
   "execution_count": 137,
   "metadata": {
    "collapsed": true
   },
   "outputs": [],
   "source": [
    "def plot_data(dataFrame, title=\"Stock Prices\"):\n",
    "    ax = dataFrame.plot(title=title)\n",
    "    ax.set_xlabel(\"Date\")\n",
    "    ax.set_ylabel(\"Close Price\")\n",
    "    plt.show()"
   ]
  },
  {
   "cell_type": "code",
   "execution_count": 141,
   "metadata": {},
   "outputs": [],
   "source": [
    "def plot_selected(dataFrame, columns, start_index, end_index):\n",
    "    plot_data(dataFrame.loc[start_index:end_index, columns], title=\"Selected prices\")"
   ]
  },
  {
   "cell_type": "code",
   "execution_count": 144,
   "metadata": {},
   "outputs": [],
   "source": [
    "#plot_selected(df, ['AMZN','FB'], '2013-03-23', '2016-06-13')"
   ]
  },
  {
   "cell_type": "markdown",
   "metadata": {},
   "source": [
    "##### --Normalising Data--"
   ]
  },
  {
   "cell_type": "code",
   "execution_count": 149,
   "metadata": {
    "collapsed": true
   },
   "outputs": [],
   "source": [
    "def normalise_data(dataFrame):\n",
    "    return dataFrame/dataFrame.iloc[0]"
   ]
  },
  {
   "cell_type": "code",
   "execution_count": 150,
   "metadata": {},
   "outputs": [
    {
     "data": {
      "image/png": "[encoded data removed]",
      "text/plain": [
       "<matplotlib.figure.Figure at 0x11aedf6a0>"
      ]
     },
     "metadata": {},
     "output_type": "display_data"
    }
   ],
   "source": [
    "plot_data(normalise_data(df))"
   ]
  },
  {
   "cell_type": "code",
   "execution_count": null,
   "metadata": {
    "collapsed": true
   },
   "outputs": [],
   "source": []
  }
 ],
 "metadata": {
  "kernelspec": {
   "display_name": "Python 3",
   "language": "python",
   "name": "python3"
  },
  "language_info": {
   "codemirror_mode": {
    "name": "ipython",
    "version": 3
   },
   "file_extension": ".py",
   "mimetype": "text/x-python",
   "name": "python",
   "nbconvert_exporter": "python",
   "pygments_lexer": "ipython3",
   "version": "3.6.1"
  }
 },
 "nbformat": 4,
 "nbformat_minor": 2
}
